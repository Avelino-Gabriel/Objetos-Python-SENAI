{
  "cells": [
    {
      "cell_type": "markdown",
      "metadata": {
        "id": "CXof86h3x2Gx"
      },
      "source": [
        "# Exercícios : Orientação a Objetos no Python"
      ]
    },
    {
      "cell_type": "markdown",
      "metadata": {
        "id": "s4mG0KoFx2G1"
      },
      "source": [
        "### Exercício 1: Registro de Pacientes\n",
        "\n",
        "Crie uma classe chamada Paciente que represente os pacientes de uma clínica de saúde. A classe deve ter as seguintes propriedades:\n",
        "\n",
        "nome: Nome do paciente\n",
        "idade: Idade do paciente\n",
        "sexo: Sexo do paciente (masculino/feminino)\n",
        "historico_medico: Lista que armazena o histórico médico do paciente\n",
        "\n",
        "Além disso, a classe deve ter os seguintes métodos:\n",
        "\n",
        "adicionar_historico(medico, diagnostico): Método que adiciona uma entrada ao histórico médico do paciente, contendo o nome do médico e o diagnóstico fornecido.\n",
        "imprimir_historico(): Método que imprime o histórico médico do paciente."
      ]
    },
    {
      "cell_type": "code",
      "execution_count": 2,
      "metadata": {
        "id": "Pk1_MuKIx2G2"
      },
      "outputs": [
        {
          "name": "stdout",
          "output_type": "stream",
          "text": [
            "Histórico Vazio\n",
            "[{'Medico': 'Rodrigo', 'Diagnostico': 'asma'}]\n"
          ]
        }
      ],
      "source": [
        "class Paciente:\n",
        "    def __init__(self, nome_paciente, idade_paciente, sexo_paciente):\n",
        "        self.nome = nome_paciente\n",
        "        self.idade = idade_paciente\n",
        "        self.sexo = sexo_paciente\n",
        "        self.historico_medico = []\n",
        "    \n",
        "    def adicionar_historico(self, medico, diagnostico):\n",
        "        prontuario = {\n",
        "            'Medico': medico,\n",
        "            'Diagnostico': diagnostico\n",
        "        }\n",
        "        self.historico_medico.append(prontuario)\n",
        "\n",
        "    def imprimir_historico(self):\n",
        "        if self.historico_medico == []:\n",
        "            print('Histórico Vazio')\n",
        "        else:\n",
        "            print(self.historico_medico)\n",
        "\n",
        "paciente = Paciente('Gabriel', 19, 'Masculino')\n",
        "paciente.adicionar_historico('Dr.Rodrigo', 'asma')\n",
        "paciente.imprimir_historico()\n"
      ]
    },
    {
      "cell_type": "markdown",
      "metadata": {
        "id": "nmGNe_FHx2G2"
      },
      "source": [
        "### Exercício 2: Controle de Equipamentos Médicos\n",
        "\n",
        "Crie uma classe chamada EquipamentoMedico que representa os equipamentos médicos de uma clínica. A classe deve ter as seguintes propriedades:\n",
        "\n",
        "nome: Nome do equipamento\n",
        "tipo: Tipo de equipamento (ex: \"Raio-X\", \"Tomógrafo\", etc.)\n",
        "status: Status do equipamento (disponível/manutenção/fora de serviço)\n",
        "Além disso, a classe deve ter os seguintes métodos:\n",
        "\n",
        "alterar_status(novo_status): Método que altera o status do equipamento.\n",
        "verificar_status(): Método que retorna o status atual do equipamento."
      ]
    },
    {
      "cell_type": "code",
      "execution_count": 1,
      "metadata": {
        "id": "v4magUQOx2G2"
      },
      "outputs": [
        {
          "name": "stdout",
          "output_type": "stream",
          "text": [
            "{'nome': 'Raio-x 1', 'tipo': 'Raio-X', 'status': 'Fora de Serviço'}\n",
            "{'nome': 'Raio-x 1', 'tipo': 'Raio-X', 'status': 'disponível'}\n"
          ]
        }
      ],
      "source": [
        "class EquipamentoMedico:\n",
        "    def __init__(self, nome_equipamento, tipo_equipamento, status_equipamento):\n",
        "        self.nome = nome_equipamento\n",
        "        self.tipo = tipo_equipamento\n",
        "        self.status = status_equipamento\n",
        "\n",
        "    def alterar_status(self, novo_status):\n",
        "        self.status = novo_status\n",
        "    \n",
        "    def verificar_status(self):\n",
        "        equipamento = {\n",
        "            'nome': self.nome,\n",
        "            'tipo': self.tipo,\n",
        "            'status': self.status\n",
        "            }\n",
        "        print(equipamento)\n",
        "\n",
        "equipamento = EquipamentoMedico('Raio-x 1', 'Raio-X', 'Fora de Serviço')\n",
        "equipamento.verificar_status()\n",
        "equipamento.alterar_status('disponível')\n",
        "equipamento.verificar_status()"
      ]
    },
    {
      "cell_type": "markdown",
      "metadata": {
        "id": "mORBC6R9x2G2"
      },
      "source": [
        "### Exercício: Registro de Consultas Médicas\n",
        "Crie uma classe chamada ConsultaMedica que represente as consultas médicas realizadas em uma clínica. A classe deve ter as seguintes propriedades:\n",
        "\n",
        "data: Data da consulta\n",
        "paciente: Objeto da classe Paciente representando o paciente da consulta\n",
        "medico: Nome do médico responsável pela consulta\n",
        "diagnostico: Diagnóstico fornecido durante a consulta\n",
        "Além disso, a classe deve ter um método:\n",
        "\n",
        "imprimir_informacoes(): Método que imprime as informações da consulta."
      ]
    },
    {
      "cell_type": "code",
      "execution_count": 13,
      "metadata": {
        "id": "9Cx153rLx2G3"
      },
      "outputs": [
        {
          "name": "stdout",
          "output_type": "stream",
          "text": [
            "{'data': '29/02/2024', 'paciente': {'nome': 'Gabriel', 'idade': 19, 'sexo': 'Masculino', 'historico': [{'Medico': 'Dr.Rodrigo', 'Diagnostico': 'asma'}]}, 'medico': 'Dr.Paulo Freitas', 'diagnostico': 'Asma'}\n"
          ]
        }
      ],
      "source": [
        "class Paciente:\n",
        "    def __init__(self, nome_paciente, idade_paciente, sexo_paciente):\n",
        "        self.nome = nome_paciente\n",
        "        self.idade = idade_paciente\n",
        "        self.sexo = sexo_paciente\n",
        "        self.historico_medico = []\n",
        "    \n",
        "    def adicionar_historico(self, medico, diagnostico):\n",
        "        dado = {\n",
        "            'Medico': medico,\n",
        "            'Diagnostico': diagnostico\n",
        "        }\n",
        "        self.historico_medico.append(dado)\n",
        "\n",
        "    def imprimir_historico(self):\n",
        "        if self.historico_medico == []:\n",
        "            print('Histórico Vazio')\n",
        "        else:\n",
        "            print(self.historico_medico)\n",
        "\n",
        "    def criar_paciente(self):\n",
        "        prontuario = {\n",
        "            'nome': self.nome,\n",
        "            'idade': self.idade,\n",
        "            'sexo': self.sexo,\n",
        "            'historico': self.historico_medico\n",
        "        }\n",
        "        return prontuario\n",
        "\n",
        "\n",
        "class ConsultaMedica:\n",
        "    def __init__(self, data_consulta, paciente, medico, diagnostico):\n",
        "        self.data = data_consulta\n",
        "        self.paciente = paciente\n",
        "        self.medico = medico\n",
        "        self.diagnostico = diagnostico\n",
        "\n",
        "    def imprimir_informacoes(self):\n",
        "        consultaMed = {\n",
        "            'data' : self.data,\n",
        "            'paciente': self.paciente,\n",
        "            'medico': self.medico,\n",
        "            'diagnostico': self.diagnostico\n",
        "        }\n",
        "        print(consultaMed)\n",
        "\n",
        "paciente = Paciente('Gabriel', 19, 'Masculino')\n",
        "paciente.adicionar_historico('Dr.Rodrigo', 'asma')\n",
        "paciente = paciente.criar_paciente()\n",
        "consulta = ConsultaMedica('29/02/2024', paciente, 'Dr.Paulo Freitas', 'Asma')\n",
        "consulta.imprimir_informacoes()\n",
        "\n",
        "        "
      ]
    }
  ],
  "metadata": {
    "colab": {
      "provenance": []
    },
    "kernelspec": {
      "display_name": "Python 3",
      "language": "python",
      "name": "python3"
    },
    "language_info": {
      "codemirror_mode": {
        "name": "ipython",
        "version": 3
      },
      "file_extension": ".py",
      "mimetype": "text/x-python",
      "name": "python",
      "nbconvert_exporter": "python",
      "pygments_lexer": "ipython3",
      "version": "3.12.1"
    }
  },
  "nbformat": 4,
  "nbformat_minor": 0
}
